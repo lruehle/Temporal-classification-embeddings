{
 "cells": [
  {
   "cell_type": "code",
   "execution_count": 2,
   "id": "bfa82ee6",
   "metadata": {},
   "outputs": [],
   "source": [
    "from gensim import utils\n",
    "import os\n",
    "import gensim\n",
    "import gensim.models\n",
    "import smart_open\n",
    "import random\n",
    "\n",
    "project_dir = os.path.abspath('dta_vectors.ipynb') \n",
    "lil_train_file = os.path.join(os.path.dirname(project_dir),'corpora\\dta\\Belletristik\\\\1800\\jung_lebensgeschichte_1835.txt')\n",
    "lil_test_file = os.path.join(os.path.dirname(project_dir),'corpora\\Laudatio\\grimm_aschenputtel_119-126.txt')\n",
    "                             \n",
    "test_data_dir2 = os.path.join(gensim.__path__[0], 'test', 'test_data')\n",
    "lee_train_file = os.path.join(test_data_dir2, 'lee_background.cor')\n",
    "lee_test_file = os.path.join(test_data_dir2, 'lee.cor')\n",
    "\n",
    "def read_corpus(fname,tokens_only=False):\n",
    "    with smart_open.open(fname,encoding=\"utf-8\") as f:\n",
    "        for i, line in enumerate(f):\n",
    "            tokens = gensim.utils.simple_preprocess(line)\n",
    "            if tokens_only:\n",
    "                yield tokens\n",
    "            else:\n",
    "                yield gensim.models.doc2vec.TaggedDocument(tokens, [i])\n",
    "\n",
    "train_corpus =  list(read_corpus(lil_train_file))\n",
    "#list(read_corpus(lee_train_file))\n",
    "test_corpus = list(read_corpus(lil_test_file, tokens_only=True))\n",
    "#list(read_corpus(lee_test_file, tokens_only=True))\n",
    "#print(train_corpus[:2])\n",
    "#print(test_corpus[:4])"
   ]
  },
  {
   "cell_type": "code",
   "execution_count": 3,
   "id": "ed4f367a",
   "metadata": {},
   "outputs": [],
   "source": [
    "class MyCorpus:\n",
    "    def __iter__(self):\n",
    "        corpus_path = lil_train_file\n",
    "        for line in open(corpus_path):\n",
    "            yield utils.simple_preprocess(line)\n",
    "sentences = MyCorpus()\n"
   ]
  },
  {
   "cell_type": "code",
   "execution_count": 4,
   "id": "3e24acae",
   "metadata": {},
   "outputs": [],
   "source": [
    "model = gensim.models.Word2Vec(sentences = sentences,vector_size=70,min_count=2,epochs=40)"
   ]
  },
  {
   "cell_type": "code",
   "execution_count": 34,
   "id": "2b48b8f8",
   "metadata": {},
   "outputs": [
    {
     "name": "stdout",
     "output_type": "stream",
     "text": [
      "[('schwester', 0.8170910477638245), ('freundin', 0.7329909801483154), ('lteste', 0.694165050983429), ('zweite', 0.6754599809646606), ('gemahlin', 0.6735922694206238), ('amalia', 0.6720303893089294), ('mutter', 0.6555241346359253), ('braut', 0.6523258090019226), ('groãÿmutter', 0.6434626579284668), ('christine', 0.6357921957969666)]\n"
     ]
    }
   ],
   "source": [
    "print(model.wv.most_similar('tochter'))"
   ]
  },
  {
   "cell_type": "code",
   "execution_count": null,
   "id": "ccefb4b8",
   "metadata": {},
   "outputs": [],
   "source": []
  }
 ],
 "metadata": {
  "kernelspec": {
   "display_name": "Python 3 (ipykernel)",
   "language": "python",
   "name": "python3"
  },
  "language_info": {
   "codemirror_mode": {
    "name": "ipython",
    "version": 3
   },
   "file_extension": ".py",
   "mimetype": "text/x-python",
   "name": "python",
   "nbconvert_exporter": "python",
   "pygments_lexer": "ipython3",
   "version": "3.10.7"
  }
 },
 "nbformat": 4,
 "nbformat_minor": 5
}
