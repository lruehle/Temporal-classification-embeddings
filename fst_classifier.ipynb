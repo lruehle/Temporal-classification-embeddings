{
 "cells": [
  {
   "cell_type": "markdown",
   "id": "01967799",
   "metadata": {},
   "source": [
    "https://www.digitalocean.com/community/tutorials/how-to-build-a-machine-learning-classifier-in-python-with-scikit-learn\n",
    "    "
   ]
  },
  {
   "cell_type": "code",
   "execution_count": null,
   "id": "d0f0b569",
   "metadata": {},
   "outputs": [
    {
     "ename": "",
     "evalue": "",
     "output_type": "error",
     "traceback": [
      "\u001b[1;31mDer Kernel konnte nicht gestartet werden. \n",
      "\u001b[1;31m[TerminalIPythonApp] WARNING | Unrecognized alias: 'ip', it will have no effect.\n",
      "\u001b[1;31m[TerminalIPythonApp] WARNING | Unrecognized alias: 'stdin', it will have no effect.\n",
      "\u001b[1;31m[TerminalIPythonApp] WARNING | Unrecognized alias: 'control', it will have no effect.\n",
      "\u001b[1;31m[TerminalIPythonApp] WARNING | Unrecognized alias: 'hb', it will have no effect.\n",
      "\u001b[1;31m[TerminalIPythonApp] WARNING | Unrecognized alias: 'shell', it will have no effect.\n",
      "\u001b[1;31m[TerminalIPythonApp] WARNING | Unrecognized alias: 'transport', it will have no effect.\n",
      "\u001b[1;31m[TerminalIPythonApp] WARNING | Unrecognized alias: 'iopub', it will have no effect.\n",
      "\u001b[1;31m[TerminalIPythonApp] WARNING | Unrecognized alias: 'f', it will have no effect.\n",
      "\u001b[1;31mD:\\Develop\\Python\\VM\\gensim_fst\\lib\\site-packages\\IPython\\core\\interactiveshell.py:2850: UserWarning: Unknown failure executing module: <ipykernel_launcher>\n",
      "\u001b[1;31m  warn('Unknown failure executing module: <%s>' % mod_name). \n",
      "\u001b[1;31mWeitere Informationen finden Sie im Jupyter-<a href='command:jupyter.viewOutput'>Protokoll</a>."
     ]
    }
   ],
   "source": [
    "from sklearn.datasets import load_breast_cancer\n",
    "from sklearn.model_selection import train_test_split\n",
    "from sklearn.naive_bayes import GaussianNB\n",
    "from sklearn.metrics import accuracy_score\n",
    "\n",
    "\n",
    "# Load dataset\n",
    "data = load_breast_cancer()\n",
    "\n",
    "# Organize our data\n",
    "label_names = data['target_names']\n",
    "labels = data['target']\n",
    "feature_names = data['feature_names']\n",
    "features = data['data']\n",
    "\n",
    "# Look at our data\n",
    "print(label_names)\n",
    "print('Class label = ', labels[0])\n",
    "print(feature_names)\n",
    "print(features[0])\n",
    "\n",
    "# Split our data\n",
    "train, test, train_labels, test_labels = train_test_split(features,\n",
    "                                                          labels,\n",
    "                                                          test_size=0.33,\n",
    "                                                          random_state=42)\n",
    "\n",
    "# Initialize our classifier\n",
    "gnb = GaussianNB()\n",
    "\n",
    "# Train our classifier\n",
    "model = gnb.fit(train, train_labels)\n",
    "\n",
    "# Make predictions\n",
    "preds = gnb.predict(test)\n",
    "print(preds)\n",
    "\n",
    "# Evaluate accuracy\n",
    "print(accuracy_score(test_labels, preds))"
   ]
  },
  {
   "cell_type": "code",
   "execution_count": null,
   "id": "d1c10734",
   "metadata": {},
   "outputs": [],
   "source": [
    "# importing necessary libraries\n",
    "from sklearn import datasets\n",
    "from sklearn.metrics import confusion_matrix\n",
    "from sklearn.model_selection import train_test_split\n",
    "\n",
    "# loading the iris dataset\n",
    "iris = datasets.load_iris()\n",
    "\n",
    "# X -> features, y -> label\n",
    "X = iris.data\n",
    "y = iris.target\n",
    "\n",
    "# dividing X, y into train and test data\n",
    "X_train, X_test, y_train, y_test = train_test_split(X, y, random_state = 0)\n",
    "\n",
    "# training a DescisionTreeClassifier\n",
    "from sklearn.tree import DecisionTreeClassifier\n",
    "dtree_model = DecisionTreeClassifier(max_depth = 2).fit(X_train, y_train)\n",
    "dtree_predictions = dtree_model.predict(X_test)\n",
    "\n",
    "# creating a confusion matrix\n",
    "cm = confusion_matrix(y_test, dtree_predictions)"
   ]
  },
  {
   "cell_type": "code",
   "execution_count": null,
   "id": "82157a11",
   "metadata": {},
   "outputs": [],
   "source": [
    "print(dtree_predictions)\n",
    "print(y_test)\n",
    "print(accuracy_score(y_test, dtree_predictions))\n",
    "print(cm)"
   ]
  },
  {
   "cell_type": "code",
   "execution_count": null,
   "id": "929e775e",
   "metadata": {},
   "outputs": [],
   "source": []
  }
 ],
 "metadata": {
  "kernelspec": {
   "display_name": "Python 3.10.7 ('gensim_fst')",
   "language": "python",
   "name": "python3"
  },
  "language_info": {
   "codemirror_mode": {
    "name": "ipython",
    "version": 3
   },
   "file_extension": ".py",
   "mimetype": "text/x-python",
   "name": "python",
   "nbconvert_exporter": "python",
   "pygments_lexer": "ipython3",
   "version": "3.10.7"
  },
  "vscode": {
   "interpreter": {
    "hash": "4f9f3b72917c79e99bfdf74100fc424b209099025a579112ace27dba1421c8d7"
   }
  }
 },
 "nbformat": 4,
 "nbformat_minor": 5
}
